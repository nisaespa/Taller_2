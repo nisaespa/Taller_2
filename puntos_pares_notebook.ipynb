{
 "cells": [
  {
   "cell_type": "markdown",
   "metadata": {},
   "source": [
    "# Punto 2"
   ]
  },
  {
   "cell_type": "code",
   "execution_count": null,
   "metadata": {},
   "outputs": [],
   "source": [
    "# Crear función para separar la parte entera de la decimal de un número\n",
    "def separar_partes_entera_decimal(numero):\n",
    "    parte_entera = numero // 1 # Divide el número para obtener la parte entera con división entera\n",
    "    parte_entera_int = int(parte_entera) # Convertir la parte entera en un número entero \n",
    "    parte_decimal = numero % 1 # Calcula la parte decimal del número tomando el residuo después de la división por 1\n",
    "    # Imprimir la parte entera del número \n",
    "    print(f\"La parte entera del número {numero} es: {parte_entera_int}\")\n",
    "    # Imprimir la parte decimal del número\n",
    "    print(f\"La parte decimal del número {numero} es: {parte_decimal}\")\n",
    "# Iniciar programa\n",
    "if __name__ == '__main__':\n",
    "    # Bucle infinito para que se ingrese únicamente un número flotante o entero\n",
    "    while True:\n",
    "        try: # Para que se pida el valor\n",
    "            numero = float(input(\"Escriba un número 'flotante' para separar la parte entera de la decimal: \"))\n",
    "            break # Sí es un número, terminar ciclo\n",
    "        except ValueError: # Para solo esperar como tipo de dato, valores numéricos\n",
    "            print(\"No es un número válido, intenta de nuevo.\") # Si se ingresa un valor que no sea un número, se muestra el texto de error, para que se ingrese de nuevo un número valido\n",
    "    separar_partes_entera_decimal(numero) # Llama a la función\n"
   ]
  },
  {
   "cell_type": "markdown",
   "metadata": {},
   "source": [
    "# Punto 4"
   ]
  },
  {
   "cell_type": "code",
   "execution_count": null,
   "metadata": {},
   "outputs": [],
   "source": [
    "n = int(input(\"Ingrese número de términos de la serie: \"))\n",
    "x = float(input(\"Ingrese un numero real al cual calcularle el coseno: \"))\n",
    "def factorial_(i): # De una voy definiendo factorial pa usarla al rato\n",
    "    if i != 0:\n",
    "        for a in range (1,i):\n",
    "            i*=a\n",
    "    else:\n",
    "        i = 1\n",
    "    return i\n",
    "def aprox(x,n):\n",
    "    suma:int=0 #Variable en la que voy a guardar las sumas\n",
    "    for i in range (0,n+1): #De cero a n puesto que la sumatoria va de cero a n\n",
    "        aprox_coseno = ((-1)**i) * ((x**(2*i)) / factorial_(2*i))\n",
    "        suma+=aprox_coseno\n",
    "    return suma\n",
    "print(aprox(x,n))\n",
    "import math\n",
    "valor_real= (math.cos(x))\n",
    "print(valor_real)\n",
    "\n",
    "\n",
    "#Midiendo los errores\n",
    "valores_de_error = [0.1, 0.001, 0.0001, 0.00001]\n",
    "error: float = abs( (valor_real - aprox(x,n)) / valor_real * 100)\n",
    "print(f\"Error: {error} %\")\n",
    "\n",
    "for valor_error in valores_de_error: \n",
    "    while error >= valor_error: #No funciona puesto que el error nunca cumple estas características, pero el erro lo calculo con un valor entero dado de n,  \n",
    "        if error == valor_error: #¿Como calcular para que valores hipotéticos de n los errores serán los solicitados?\n",
    "            print(f\"El error es igual a {valor_error} en n:{n}\")\n",
    "            break\n",
    "        \n",
    "\n",
    "    "
   ]
  },
  {
   "cell_type": "markdown",
   "metadata": {},
   "source": [
    "Lo que se hace para el desarrollo del 4 punto, es calcular la aproximación para cualquier numero real del coseno alrededor de 0, esto usando la formula dada, que es una sumatoria de todos los valores de 0 hasta n, posteriormente, se calculan los errores solicitados, comparando la aproximación hecha por la sumatoria y la funcion real importada.  "
   ]
  },
  {
   "cell_type": "markdown",
   "metadata": {},
   "source": [
    "# Punto 6"
   ]
  },
  {
   "cell_type": "code",
   "execution_count": null,
   "metadata": {},
   "outputs": [],
   "source": [
    "lista_numeros = [] #En esta lista se van a guardar los digitos que se ingrese por consola\n",
    "cuantos_ = int(input(\"¿Cuantos elementos va a tener su lista?: \"))\n",
    "for i in range(0, cuantos_):\n",
    "    numero = float(input(\"Ingrese los numeros de su lista: \"))\n",
    "    lista_numeros.append(numero) #Comando para ir agregando cada numero ingresado a la lista\n",
    "print(lista_numeros)\n",
    "\n",
    "hay_repetidos: bool = False #Aqui, asuminedo que no hay repetidos, vamos a establecer luego si hay repetidos, que se hace\n",
    "for a in lista_numeros:\n",
    "    n = lista_numeros.count(a)\n",
    "    if n > 1:\n",
    "        hay_repetidos = True \n",
    "        break               #Solo definiré si hay numeros repetidos, no cuales ni cuantas veces\n",
    "if hay_repetidos:\n",
    "    print(\"Hay repetidos\")\n",
    "else:\n",
    "    print(\"No hay repetidos\")"
   ]
  },
  {
   "cell_type": "markdown",
   "metadata": {},
   "source": [
    "En el desarrollo de este punto 6, se busca unicamente comunicar sobre la existencia de elementos repetidos en una lista dada por consola, tomando valores booleanos."
   ]
  },
  {
   "cell_type": "markdown",
   "metadata": {},
   "source": [
    "# Punto 8 "
   ]
  },
  {
   "cell_type": "code",
   "execution_count": null,
   "metadata": {},
   "outputs": [],
   "source": [
    "lista_1= [1, 'Hola', -12.3 ,\"True\"]\n",
    "lista_2= [11, -12.3, 'Hola', \"False\"] # ¿Que elementos tiene la lista 1 que no tiene la lista_2?\n",
    "lista_elementos = []\n",
    "for i in lista_1:\n",
    "    if i not in  lista_2: #Esto puesto que es similar a poner un false pero el false me causó problemas:´)\n",
    "        \n",
    "        lista_elementos.append(i) #De esta manera se guardan en la nueva lista\n",
    "        \n",
    "print(lista_elementos)        \n",
    "   "
   ]
  },
  {
   "cell_type": "markdown",
   "metadata": {},
   "source": [
    "Se busca comunicar que valores se encuentran en la lista1 que no están en la lista2, en este caso hago el uso del operador \"not\", dandole un uso similar a un booleano"
   ]
  },
  {
   "cell_type": "markdown",
   "metadata": {},
   "source": [
    "# Punto 10"
   ]
  },
  {
   "cell_type": "code",
   "execution_count": null,
   "metadata": {},
   "outputs": [],
   "source": [
    "lista_ = [] #Lista que va a elaborar el usuario\n",
    "cantidad = int(input(\"Cuantos elementos va a tener su lista?: \"))\n",
    "for i in range(cantidad):\n",
    "    numero = float(input(\"Ingrese sus numeros: \"))\n",
    "    lista_.append(numero) \n",
    "\n",
    "def funcion(i):\n",
    "    lista_nueva = [] #Lista donde se guardarán los multiplos de 3\n",
    "    for i in lista_:\n",
    "        if i %3 ==0: #Condicional que define si son multiplos de 3\n",
    "            lista_nueva.append(i) #De esta manera se guardan\n",
    "    return lista_nueva\n",
    "\n",
    "\n",
    "\n",
    "if __name__==\"__main__\":\n",
    "    print(funcion(i))"
   ]
  },
  {
   "cell_type": "markdown",
   "metadata": {},
   "source": [
    "En este caso y con el uso de listas, se busca identificar que argumentos de esa lista son multiplos de 3, esto haciendo uso del operador % y el operador append "
   ]
  }
 ],
 "metadata": {
  "language_info": {
   "name": "python"
  }
 },
 "nbformat": 4,
 "nbformat_minor": 2
}
